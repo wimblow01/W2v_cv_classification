{
 "cells": [
  {
   "cell_type": "markdown",
   "id": "durable-groove",
   "metadata": {},
   "source": [
    "# Brief sur la classification de CV\n"
   ]
  },
  {
   "cell_type": "markdown",
   "id": "excessive-burke",
   "metadata": {},
   "source": [
    "## 1. Importation des librairies et dataset"
   ]
  },
  {
   "cell_type": "code",
   "execution_count": 1,
   "id": "colored-texture",
   "metadata": {},
   "outputs": [],
   "source": [
    "import pandas as pd\n",
    "import numpy as np\n",
    "import re\n",
    "from bs4 import BeautifulSoup\n",
    "from nltk.corpus import stopwords"
   ]
  },
  {
   "cell_type": "code",
   "execution_count": 2,
   "id": "literary-interest",
   "metadata": {},
   "outputs": [
    {
     "data": {
      "text/html": [
       "<div>\n",
       "<style scoped>\n",
       "    .dataframe tbody tr th:only-of-type {\n",
       "        vertical-align: middle;\n",
       "    }\n",
       "\n",
       "    .dataframe tbody tr th {\n",
       "        vertical-align: top;\n",
       "    }\n",
       "\n",
       "    .dataframe thead th {\n",
       "        text-align: right;\n",
       "    }\n",
       "</style>\n",
       "<table border=\"1\" class=\"dataframe\">\n",
       "  <thead>\n",
       "    <tr style=\"text-align: right;\">\n",
       "      <th></th>\n",
       "      <th>Category</th>\n",
       "      <th>Resume</th>\n",
       "    </tr>\n",
       "  </thead>\n",
       "  <tbody>\n",
       "    <tr>\n",
       "      <th>0</th>\n",
       "      <td>Data Science</td>\n",
       "      <td>Skills * Programming Languages: Python (pandas...</td>\n",
       "    </tr>\n",
       "    <tr>\n",
       "      <th>1</th>\n",
       "      <td>Data Science</td>\n",
       "      <td>Education Details \\r\\nMay 2013 to May 2017 B.E...</td>\n",
       "    </tr>\n",
       "    <tr>\n",
       "      <th>2</th>\n",
       "      <td>Data Science</td>\n",
       "      <td>Areas of Interest Deep Learning, Control Syste...</td>\n",
       "    </tr>\n",
       "    <tr>\n",
       "      <th>3</th>\n",
       "      <td>Data Science</td>\n",
       "      <td>Skills â¢ R â¢ Python â¢ SAP HANA â¢ Table...</td>\n",
       "    </tr>\n",
       "    <tr>\n",
       "      <th>4</th>\n",
       "      <td>Data Science</td>\n",
       "      <td>Education Details \\r\\n MCA   YMCAUST,  Faridab...</td>\n",
       "    </tr>\n",
       "  </tbody>\n",
       "</table>\n",
       "</div>"
      ],
      "text/plain": [
       "       Category                                             Resume\n",
       "0  Data Science  Skills * Programming Languages: Python (pandas...\n",
       "1  Data Science  Education Details \\r\\nMay 2013 to May 2017 B.E...\n",
       "2  Data Science  Areas of Interest Deep Learning, Control Syste...\n",
       "3  Data Science  Skills â¢ R â¢ Python â¢ SAP HANA â¢ Table...\n",
       "4  Data Science  Education Details \\r\\n MCA   YMCAUST,  Faridab..."
      ]
     },
     "execution_count": 2,
     "metadata": {},
     "output_type": "execute_result"
    }
   ],
   "source": [
    "df = pd.read_csv('DataSet.csv', delimiter=',')\n",
    "df.head(5)"
   ]
  },
  {
   "cell_type": "markdown",
   "id": "cooperative-cabin",
   "metadata": {},
   "source": [
    "## 2. Information sur les données"
   ]
  },
  {
   "cell_type": "code",
   "execution_count": 3,
   "id": "threatened-ethnic",
   "metadata": {},
   "outputs": [
    {
     "data": {
      "text/plain": [
       "Java Developer               84\n",
       "Testing                      70\n",
       "DevOps Engineer              55\n",
       "Python Developer             48\n",
       "Web Designing                45\n",
       "HR                           44\n",
       "Hadoop                       42\n",
       "Mechanical Engineer          40\n",
       "Data Science                 40\n",
       "ETL Developer                40\n",
       "Operations Manager           40\n",
       "Sales                        40\n",
       "Blockchain                   40\n",
       "Arts                         36\n",
       "Database                     33\n",
       "PMO                          30\n",
       "Electrical Engineering       30\n",
       "Health and fitness           30\n",
       "Business Analyst             28\n",
       "DotNet Developer             28\n",
       "Automation Testing           26\n",
       "Network Security Engineer    25\n",
       "Civil Engineer               24\n",
       "SAP Developer                24\n",
       "Advocate                     20\n",
       "Name: Category, dtype: int64"
      ]
     },
     "execution_count": 3,
     "metadata": {},
     "output_type": "execute_result"
    }
   ],
   "source": [
    "df['Category'].value_counts()"
   ]
  },
  {
   "cell_type": "code",
   "execution_count": 4,
   "id": "otherwise-narrative",
   "metadata": {},
   "outputs": [
    {
     "name": "stdout",
     "output_type": "stream",
     "text": [
      "(962, 2)\n"
     ]
    }
   ],
   "source": [
    "print(df.shape)"
   ]
  },
  {
   "cell_type": "markdown",
   "id": "enormous-scholarship",
   "metadata": {},
   "source": [
    "## 3. Traitement des données"
   ]
  },
  {
   "cell_type": "code",
   "execution_count": 5,
   "id": "chemical-mediterranean",
   "metadata": {},
   "outputs": [],
   "source": [
    "def clean(text, remove_stopwords=False):\n",
    "    # suppression des balises html\n",
    "    review_text = BeautifulSoup(text).get_text()\n",
    "    # suppression des nombres\n",
    "    review_text = re.sub(\"[^a-zA-Z]\",\" \", review_text)\n",
    "    # passage en minuscule et split des mots\n",
    "    words = review_text.lower().split()\n",
    "    # suppression des stopwords (false par default)\n",
    "    if remove_stopwords:\n",
    "        stops = set(stopwords.words(\"english\"))\n",
    "        words = [w for w in words if not w in stops]\n",
    "\n",
    "    return (words)"
   ]
  },
  {
   "cell_type": "code",
   "execution_count": 6,
   "id": "japanese-venezuela",
   "metadata": {},
   "outputs": [],
   "source": [
    "clean_resume = []\n",
    "for resume in df[\"Resume\"]:\n",
    "    clean_resume.append( clean( resume, remove_stopwords=True ))"
   ]
  },
  {
   "cell_type": "code",
   "execution_count": 7,
   "id": "creative-twist",
   "metadata": {},
   "outputs": [
    {
     "name": "stdout",
     "output_type": "stream",
     "text": [
      "['skills', 'programming', 'languages', 'python', 'pandas', 'numpy', 'scipy', 'scikit', 'learn', 'matplotlib', 'sql', 'java', 'javascript', 'jquery', 'machine', 'learning', 'regression', 'svm', 'na', 'bayes']\n"
     ]
    }
   ],
   "source": [
    "print(clean_resume[0][:20])"
   ]
  },
  {
   "cell_type": "code",
   "execution_count": 8,
   "id": "wrapped-cargo",
   "metadata": {},
   "outputs": [],
   "source": [
    "df[\"clean\"]=clean_resume"
   ]
  },
  {
   "cell_type": "code",
   "execution_count": 9,
   "id": "detected-pride",
   "metadata": {},
   "outputs": [
    {
     "data": {
      "text/html": [
       "<div>\n",
       "<style scoped>\n",
       "    .dataframe tbody tr th:only-of-type {\n",
       "        vertical-align: middle;\n",
       "    }\n",
       "\n",
       "    .dataframe tbody tr th {\n",
       "        vertical-align: top;\n",
       "    }\n",
       "\n",
       "    .dataframe thead th {\n",
       "        text-align: right;\n",
       "    }\n",
       "</style>\n",
       "<table border=\"1\" class=\"dataframe\">\n",
       "  <thead>\n",
       "    <tr style=\"text-align: right;\">\n",
       "      <th></th>\n",
       "      <th>Category</th>\n",
       "      <th>Resume</th>\n",
       "      <th>clean</th>\n",
       "    </tr>\n",
       "  </thead>\n",
       "  <tbody>\n",
       "    <tr>\n",
       "      <th>0</th>\n",
       "      <td>Data Science</td>\n",
       "      <td>Skills * Programming Languages: Python (pandas...</td>\n",
       "      <td>[skills, programming, languages, python, panda...</td>\n",
       "    </tr>\n",
       "    <tr>\n",
       "      <th>1</th>\n",
       "      <td>Data Science</td>\n",
       "      <td>Education Details \\r\\nMay 2013 to May 2017 B.E...</td>\n",
       "      <td>[education, details, may, may, b, e, uit, rgpv...</td>\n",
       "    </tr>\n",
       "    <tr>\n",
       "      <th>2</th>\n",
       "      <td>Data Science</td>\n",
       "      <td>Areas of Interest Deep Learning, Control Syste...</td>\n",
       "      <td>[areas, interest, deep, learning, control, sys...</td>\n",
       "    </tr>\n",
       "    <tr>\n",
       "      <th>3</th>\n",
       "      <td>Data Science</td>\n",
       "      <td>Skills â¢ R â¢ Python â¢ SAP HANA â¢ Table...</td>\n",
       "      <td>[skills, r, python, sap, hana, tableau, sap, h...</td>\n",
       "    </tr>\n",
       "    <tr>\n",
       "      <th>4</th>\n",
       "      <td>Data Science</td>\n",
       "      <td>Education Details \\r\\n MCA   YMCAUST,  Faridab...</td>\n",
       "      <td>[education, details, mca, ymcaust, faridabad, ...</td>\n",
       "    </tr>\n",
       "  </tbody>\n",
       "</table>\n",
       "</div>"
      ],
      "text/plain": [
       "       Category                                             Resume  \\\n",
       "0  Data Science  Skills * Programming Languages: Python (pandas...   \n",
       "1  Data Science  Education Details \\r\\nMay 2013 to May 2017 B.E...   \n",
       "2  Data Science  Areas of Interest Deep Learning, Control Syste...   \n",
       "3  Data Science  Skills â¢ R â¢ Python â¢ SAP HANA â¢ Table...   \n",
       "4  Data Science  Education Details \\r\\n MCA   YMCAUST,  Faridab...   \n",
       "\n",
       "                                               clean  \n",
       "0  [skills, programming, languages, python, panda...  \n",
       "1  [education, details, may, may, b, e, uit, rgpv...  \n",
       "2  [areas, interest, deep, learning, control, sys...  \n",
       "3  [skills, r, python, sap, hana, tableau, sap, h...  \n",
       "4  [education, details, mca, ymcaust, faridabad, ...  "
      ]
     },
     "execution_count": 9,
     "metadata": {},
     "output_type": "execute_result"
    }
   ],
   "source": [
    "df.head(5)"
   ]
  },
  {
   "cell_type": "markdown",
   "id": "opposite-groove",
   "metadata": {},
   "source": [
    "### Préprocessing"
   ]
  },
  {
   "cell_type": "code",
   "execution_count": 10,
   "id": "touched-compact",
   "metadata": {},
   "outputs": [],
   "source": [
    "import nltk.data "
   ]
  },
  {
   "cell_type": "code",
   "execution_count": 11,
   "id": "hydraulic-royalty",
   "metadata": {},
   "outputs": [],
   "source": [
    "# téléchargement du tokenizer punkt\n",
    "tokenizer = nltk.data.load('tokenizers/punkt/english.pickle')"
   ]
  },
  {
   "cell_type": "code",
   "execution_count": 12,
   "id": "alternative-costs",
   "metadata": {},
   "outputs": [],
   "source": [
    "def funct(text, tokenizer, remove_stopwords=False):\n",
    "    # utilisation du tokenizer NLTK pour split les paragraphes en phrases \n",
    "    tokens = tokenizer.tokenize(text.strip())\n",
    "    \n",
    "    resume = []\n",
    "    for token in tokens:\n",
    "        # si la phrase est vide, la skip\n",
    "        if len(token) > 0:\n",
    "            f1 = clean(token, remove_stopwords)    \n",
    "            resume.append(f1)\n",
    "\n",
    "    return resume"
   ]
  },
  {
   "cell_type": "code",
   "execution_count": 13,
   "id": "limiting-purpose",
   "metadata": {},
   "outputs": [
    {
     "name": "stdout",
     "output_type": "stream",
     "text": [
      "Parsing sentences from training set\n"
     ]
    },
    {
     "name": "stderr",
     "output_type": "stream",
     "text": [
      "C:\\Users\\utilisateur\\anaconda3\\lib\\site-packages\\bs4\\__init__.py:332: MarkupResemblesLocatorWarning: \".\" looks like a filename, not markup. You should probably open this file and pass the filehandle into Beautiful Soup.\n",
      "  warnings.warn(\n"
     ]
    }
   ],
   "source": [
    "sentences = []\n",
    "\n",
    "print (\"Parsing sentences from training set\")\n",
    "for resume in df['Resume']:\n",
    "    sentences += funct(resume, tokenizer)"
   ]
  },
  {
   "cell_type": "code",
   "execution_count": 14,
   "id": "enabling-player",
   "metadata": {},
   "outputs": [
    {
     "data": {
      "text/html": [
       "<div>\n",
       "<style scoped>\n",
       "    .dataframe tbody tr th:only-of-type {\n",
       "        vertical-align: middle;\n",
       "    }\n",
       "\n",
       "    .dataframe tbody tr th {\n",
       "        vertical-align: top;\n",
       "    }\n",
       "\n",
       "    .dataframe thead th {\n",
       "        text-align: right;\n",
       "    }\n",
       "</style>\n",
       "<table border=\"1\" class=\"dataframe\">\n",
       "  <thead>\n",
       "    <tr style=\"text-align: right;\">\n",
       "      <th></th>\n",
       "      <th>Category</th>\n",
       "      <th>Resume</th>\n",
       "      <th>clean</th>\n",
       "    </tr>\n",
       "  </thead>\n",
       "  <tbody>\n",
       "    <tr>\n",
       "      <th>0</th>\n",
       "      <td>Data Science</td>\n",
       "      <td>Skills * Programming Languages: Python (pandas...</td>\n",
       "      <td>[skills, programming, languages, python, panda...</td>\n",
       "    </tr>\n",
       "    <tr>\n",
       "      <th>1</th>\n",
       "      <td>Data Science</td>\n",
       "      <td>Education Details \\r\\nMay 2013 to May 2017 B.E...</td>\n",
       "      <td>[education, details, may, may, b, e, uit, rgpv...</td>\n",
       "    </tr>\n",
       "    <tr>\n",
       "      <th>2</th>\n",
       "      <td>Data Science</td>\n",
       "      <td>Areas of Interest Deep Learning, Control Syste...</td>\n",
       "      <td>[areas, interest, deep, learning, control, sys...</td>\n",
       "    </tr>\n",
       "    <tr>\n",
       "      <th>3</th>\n",
       "      <td>Data Science</td>\n",
       "      <td>Skills â¢ R â¢ Python â¢ SAP HANA â¢ Table...</td>\n",
       "      <td>[skills, r, python, sap, hana, tableau, sap, h...</td>\n",
       "    </tr>\n",
       "    <tr>\n",
       "      <th>4</th>\n",
       "      <td>Data Science</td>\n",
       "      <td>Education Details \\r\\n MCA   YMCAUST,  Faridab...</td>\n",
       "      <td>[education, details, mca, ymcaust, faridabad, ...</td>\n",
       "    </tr>\n",
       "  </tbody>\n",
       "</table>\n",
       "</div>"
      ],
      "text/plain": [
       "       Category                                             Resume  \\\n",
       "0  Data Science  Skills * Programming Languages: Python (pandas...   \n",
       "1  Data Science  Education Details \\r\\nMay 2013 to May 2017 B.E...   \n",
       "2  Data Science  Areas of Interest Deep Learning, Control Syste...   \n",
       "3  Data Science  Skills â¢ R â¢ Python â¢ SAP HANA â¢ Table...   \n",
       "4  Data Science  Education Details \\r\\n MCA   YMCAUST,  Faridab...   \n",
       "\n",
       "                                               clean  \n",
       "0  [skills, programming, languages, python, panda...  \n",
       "1  [education, details, may, may, b, e, uit, rgpv...  \n",
       "2  [areas, interest, deep, learning, control, sys...  \n",
       "3  [skills, r, python, sap, hana, tableau, sap, h...  \n",
       "4  [education, details, mca, ymcaust, faridabad, ...  "
      ]
     },
     "execution_count": 14,
     "metadata": {},
     "output_type": "execute_result"
    }
   ],
   "source": [
    "df.head(5)"
   ]
  },
  {
   "cell_type": "code",
   "execution_count": 15,
   "id": "eight-currency",
   "metadata": {},
   "outputs": [],
   "source": [
    "from sklearn.model_selection import train_test_split"
   ]
  },
  {
   "cell_type": "code",
   "execution_count": 16,
   "id": "straight-atlanta",
   "metadata": {},
   "outputs": [],
   "source": [
    "# split du jeu de données\n",
    "X_train, X_test, y_train, y_test = train_test_split(df.clean, df.Category, test_size=200, random_state=42)"
   ]
  },
  {
   "cell_type": "code",
   "execution_count": 17,
   "id": "introductory-overhead",
   "metadata": {},
   "outputs": [
    {
     "name": "stdout",
     "output_type": "stream",
     "text": [
      "(762,)\n",
      "(762,)\n"
     ]
    }
   ],
   "source": [
    "print(X_train.shape)\n",
    "print(y_train.shape)"
   ]
  },
  {
   "cell_type": "code",
   "execution_count": 18,
   "id": "specialized-indiana",
   "metadata": {},
   "outputs": [],
   "source": [
    "import gensim\n",
    "from gensim import models\n",
    "from gensim.models import Word2Vec\n",
    "from gensim.test.utils import common_texts"
   ]
  },
  {
   "cell_type": "code",
   "execution_count": 19,
   "id": "suited-property",
   "metadata": {},
   "outputs": [],
   "source": [
    "# paramètres pour l'entrainement du modèle\n",
    "num_features = 300                         \n",
    "min_word_count = 20                           \n",
    "num_workers = 4       \n",
    "context = 2                                                                                              \n",
    "downsampling = 0.00001 \n",
    "alpha = 0.03\n",
    "min_alpha=0.0007\n",
    "negative=20"
   ]
  },
  {
   "cell_type": "code",
   "execution_count": 20,
   "id": "straight-pencil",
   "metadata": {},
   "outputs": [
    {
     "name": "stdout",
     "output_type": "stream",
     "text": [
      "Training model...\n",
      "End of training  \n"
     ]
    }
   ],
   "source": [
    "# initialisation et entrainement du modèle\n",
    "print (\"Training model...\")\n",
    "w2v_model = Word2Vec(min_count=min_word_count,\n",
    "                     window=context,\n",
    "                     size=num_features,\n",
    "                     sample=downsampling, \n",
    "                     alpha=alpha, \n",
    "                     min_alpha=min_alpha, \n",
    "                     negative=negative,\n",
    "                     workers=num_workers)\n",
    "print(\"End of training  \")\n",
    "\n",
    "w2v_model.build_vocab(X_train, progress_per=10000)"
   ]
  },
  {
   "cell_type": "code",
   "execution_count": 21,
   "id": "serial-definition",
   "metadata": {},
   "outputs": [
    {
     "data": {
      "text/plain": [
       "(824440, 7122750)"
      ]
     },
     "execution_count": 21,
     "metadata": {},
     "output_type": "execute_result"
    }
   ],
   "source": [
    "w2v_model.train(X_train, total_examples=w2v_model.corpus_count, epochs=30, report_delay=1)\n"
   ]
  },
  {
   "cell_type": "code",
   "execution_count": 22,
   "id": "cathedral-audit",
   "metadata": {},
   "outputs": [
    {
     "data": {
      "text/plain": [
       "(1944, 300)"
      ]
     },
     "execution_count": 22,
     "metadata": {},
     "output_type": "execute_result"
    }
   ],
   "source": [
    "w2v_model.wv.vectors.shape"
   ]
  },
  {
   "cell_type": "markdown",
   "id": "suspended-preliminary",
   "metadata": {},
   "source": [
    "### Sauvegarde du w2v"
   ]
  },
  {
   "cell_type": "code",
   "execution_count": 23,
   "id": "alpha-graphic",
   "metadata": {},
   "outputs": [],
   "source": [
    "model_name = \"model_w2v\"\n",
    "w2v_model.save(model_name)"
   ]
  },
  {
   "cell_type": "code",
   "execution_count": 24,
   "id": "criminal-hands",
   "metadata": {},
   "outputs": [],
   "source": [
    "def makeFeatureVec(words, model, num_features):\n",
    "    # Function to average all of the word vectors in a given\n",
    "    # paragraph\n",
    "    #\n",
    "    # Pre-initialize an empty numpy array (for speed)\n",
    "    featureVec = np.zeros((num_features,),dtype=\"float32\")\n",
    "    #\n",
    "    nwords = 0.\n",
    "    # \n",
    "    # Index2word is a list that contains the names of the words in \n",
    "    # the model's vocabulary. Convert it to a set, for speed \n",
    "    index2word_set = set(model.wv.index2word)\n",
    "    #\n",
    "    # Loop over each word in the review and, if it is in the model's\n",
    "    # vocaublary, add its feature vector to the total\n",
    "    for word in words:\n",
    "        if word in index2word_set: \n",
    "            nwords = nwords + 1.\n",
    "            featureVec = np.add(featureVec,model[word])\n",
    "    # \n",
    "    # Divide the result by the number of words to get the average\n",
    "    featureVec = np.divide(featureVec,nwords)\n",
    "    return featureVec"
   ]
  },
  {
   "cell_type": "code",
   "execution_count": 25,
   "id": "binary-amateur",
   "metadata": {},
   "outputs": [],
   "source": [
    "def getAvgFeatureVecs(reviews, model, num_features):\n",
    "    # Given a set of reviews (each one a list of words), calculate \n",
    "    # the average feature vector for each one and return a 2D numpy array \n",
    "    # \n",
    "    # Initialize a counter\n",
    "    counter = 0\n",
    "    # \n",
    "    # Preallocate a 2D numpy array, for speed\n",
    "    reviewFeatureVecs = np.zeros((len(reviews),num_features),dtype=\"float32\")\n",
    "    # \n",
    "    # Loop through the reviews\n",
    "    for review in reviews:\n",
    "       #\n",
    "       # Print a status message every 1000th review\n",
    "        if counter%100. == 0.:\n",
    "            print (\"Review %d of %d\" % (counter, len(reviews)))            \n",
    "       # \n",
    "       # Call the function (defined above) that makes average feature vectors\n",
    "        reviewFeatureVecs[counter] = makeFeatureVec(review, model, num_features)\n",
    "       #\n",
    "       # Increment the counter\n",
    "       counter = counter + 1\n",
    "    return reviewFeatureVecs"
   ]
  },
  {
   "cell_type": "code",
   "execution_count": 26,
   "id": "saved-rider",
   "metadata": {},
   "outputs": [
    {
     "name": "stdout",
     "output_type": "stream",
     "text": [
      "Review 0 of 762\n"
     ]
    },
    {
     "name": "stderr",
     "output_type": "stream",
     "text": [
      "<ipython-input-24-b912749af2b2>:19: DeprecationWarning: Call to deprecated `__getitem__` (Method will be removed in 4.0.0, use self.wv.__getitem__() instead).\n",
      "  featureVec = np.add(featureVec,model[word])\n"
     ]
    },
    {
     "name": "stdout",
     "output_type": "stream",
     "text": [
      "Review 100 of 762\n",
      "Review 200 of 762\n",
      "Review 300 of 762\n",
      "Review 400 of 762\n",
      "Review 500 of 762\n",
      "Review 600 of 762\n",
      "Review 700 of 762\n",
      "Review 0 of 200\n",
      "Review 100 of 200\n"
     ]
    }
   ],
   "source": [
    "trainDataVecs = getAvgFeatureVecs(X_train, w2v_model, 300 )\n",
    "testDataVecs = getAvgFeatureVecs(X_test, w2v_model, 300 )"
   ]
  },
  {
   "cell_type": "code",
   "execution_count": 27,
   "id": "suburban-vatican",
   "metadata": {},
   "outputs": [
    {
     "name": "stdout",
     "output_type": "stream",
     "text": [
      "(762, 300)\n",
      "(200, 300)\n"
     ]
    }
   ],
   "source": [
    "print(trainDataVecs.shape)\n",
    "print(testDataVecs.shape)"
   ]
  },
  {
   "cell_type": "markdown",
   "id": "young-national",
   "metadata": {},
   "source": [
    "## 4. Random Forest"
   ]
  },
  {
   "cell_type": "code",
   "execution_count": 28,
   "id": "likely-deviation",
   "metadata": {},
   "outputs": [
    {
     "name": "stdout",
     "output_type": "stream",
     "text": [
      "Fitting a random forest to labeled training data...\n"
     ]
    }
   ],
   "source": [
    "# Fit a random forest to the training data, using 100 trees\n",
    "from sklearn.ensemble import RandomForestClassifier\n",
    "forest = RandomForestClassifier( n_estimators = 100 )\n",
    "\n",
    "print (\"Fitting a random forest to labeled training data...\")\n",
    "forest = forest.fit( trainDataVecs, y_train )\n",
    "# ici faut pas prendre trainDataVecs mais les sacs de centroids\n",
    "\n",
    "# Test & extract results \n",
    "result = forest.predict( testDataVecs )\n",
    "\n",
    "# Write the test results \n",
    "output = pd.DataFrame( data={\"id\":y_test, \"sentiment\":result} )"
   ]
  },
  {
   "cell_type": "code",
   "execution_count": 29,
   "id": "present-elevation",
   "metadata": {},
   "outputs": [
    {
     "data": {
      "text/html": [
       "<div>\n",
       "<style scoped>\n",
       "    .dataframe tbody tr th:only-of-type {\n",
       "        vertical-align: middle;\n",
       "    }\n",
       "\n",
       "    .dataframe tbody tr th {\n",
       "        vertical-align: top;\n",
       "    }\n",
       "\n",
       "    .dataframe thead th {\n",
       "        text-align: right;\n",
       "    }\n",
       "</style>\n",
       "<table border=\"1\" class=\"dataframe\">\n",
       "  <thead>\n",
       "    <tr style=\"text-align: right;\">\n",
       "      <th></th>\n",
       "      <th>id</th>\n",
       "      <th>sentiment</th>\n",
       "    </tr>\n",
       "  </thead>\n",
       "  <tbody>\n",
       "    <tr>\n",
       "      <th>344</th>\n",
       "      <td>Java Developer</td>\n",
       "      <td>Java Developer</td>\n",
       "    </tr>\n",
       "    <tr>\n",
       "      <th>381</th>\n",
       "      <td>Java Developer</td>\n",
       "      <td>Java Developer</td>\n",
       "    </tr>\n",
       "    <tr>\n",
       "      <th>351</th>\n",
       "      <td>Java Developer</td>\n",
       "      <td>Java Developer</td>\n",
       "    </tr>\n",
       "    <tr>\n",
       "      <th>778</th>\n",
       "      <td>Hadoop</td>\n",
       "      <td>Hadoop</td>\n",
       "    </tr>\n",
       "    <tr>\n",
       "      <th>277</th>\n",
       "      <td>Health and fitness</td>\n",
       "      <td>Health and fitness</td>\n",
       "    </tr>\n",
       "    <tr>\n",
       "      <th>...</th>\n",
       "      <td>...</td>\n",
       "      <td>...</td>\n",
       "    </tr>\n",
       "    <tr>\n",
       "      <th>549</th>\n",
       "      <td>Operations Manager</td>\n",
       "      <td>Operations Manager</td>\n",
       "    </tr>\n",
       "    <tr>\n",
       "      <th>280</th>\n",
       "      <td>Health and fitness</td>\n",
       "      <td>Health and fitness</td>\n",
       "    </tr>\n",
       "    <tr>\n",
       "      <th>109</th>\n",
       "      <td>Arts</td>\n",
       "      <td>Arts</td>\n",
       "    </tr>\n",
       "    <tr>\n",
       "      <th>77</th>\n",
       "      <td>HR</td>\n",
       "      <td>HR</td>\n",
       "    </tr>\n",
       "    <tr>\n",
       "      <th>756</th>\n",
       "      <td>Hadoop</td>\n",
       "      <td>Hadoop</td>\n",
       "    </tr>\n",
       "  </tbody>\n",
       "</table>\n",
       "<p>200 rows × 2 columns</p>\n",
       "</div>"
      ],
      "text/plain": [
       "                     id           sentiment\n",
       "344      Java Developer      Java Developer\n",
       "381      Java Developer      Java Developer\n",
       "351      Java Developer      Java Developer\n",
       "778              Hadoop              Hadoop\n",
       "277  Health and fitness  Health and fitness\n",
       "..                  ...                 ...\n",
       "549  Operations Manager  Operations Manager\n",
       "280  Health and fitness  Health and fitness\n",
       "109                Arts                Arts\n",
       "77                   HR                  HR\n",
       "756              Hadoop              Hadoop\n",
       "\n",
       "[200 rows x 2 columns]"
      ]
     },
     "execution_count": 29,
     "metadata": {},
     "output_type": "execute_result"
    }
   ],
   "source": [
    "output"
   ]
  },
  {
   "cell_type": "code",
   "execution_count": 30,
   "id": "dominant-partnership",
   "metadata": {},
   "outputs": [
    {
     "data": {
      "image/png": "[encoded data removed]",
      "text/plain": [
       "<Figure size 720x720 with 2 Axes>"
      ]
     },
     "metadata": {
      "needs_background": "light"
     },
     "output_type": "display_data"
    }
   ],
   "source": [
    "import seaborn as sns\n",
    "from sklearn.metrics import confusion_matrix\n",
    "from matplotlib import pyplot as plt\n",
    "\n",
    "\n",
    "c_m = confusion_matrix(y_test, result)\n",
    "plt.figure(figsize=(10,10))\n",
    "sns.heatmap(c_m, annot=True, fmt=\".0f\", linewidths=.5, square = True, cmap = 'mako');\n",
    "plt.ylabel('Actual label');\n",
    "plt.xlabel('Predicted label');\n",
    "plt.title(\"Matrice de confusion\", size = 15)\n",
    "plt.show()\n"
   ]
  },
  {
   "cell_type": "code",
   "execution_count": 31,
   "id": "legislative-simulation",
   "metadata": {},
   "outputs": [
    {
     "name": "stdout",
     "output_type": "stream",
     "text": [
      "Accuracy: 0.985\n"
     ]
    }
   ],
   "source": [
    "from sklearn.metrics import accuracy_score\n",
    "score = accuracy_score(y_test,result)\n",
    "print('Accuracy: {}'.format(round(score,3)))"
   ]
  },
  {
   "cell_type": "markdown",
   "id": "logical-drawing",
   "metadata": {},
   "source": [
    "## 5. Sacs de centroïds"
   ]
  },
  {
   "cell_type": "code",
   "execution_count": 32,
   "id": "facial-freedom",
   "metadata": {},
   "outputs": [
    {
     "name": "stdout",
     "output_type": "stream",
     "text": [
      "Time taken for K Means clustering:  35.0528085231781 seconds.\n"
     ]
    }
   ],
   "source": [
    "from sklearn.cluster import KMeans\n",
    "import time\n",
    "\n",
    "\n",
    "start = time.time() # Start time  23 minutes\n",
    "\n",
    "# Set \"k\" (num_clusters) to be 1/5th of the vocabulary size, or an\n",
    "# average of 5 words per cluster\n",
    "\n",
    "num_clusters = w2v_model.wv.vectors.shape[0] / 5\n",
    "num_clusters\n",
    "\n",
    "\n",
    "# Initalize a k-means object and use it to extract centroids\n",
    "kmeans_clustering = KMeans( n_clusters = int(num_clusters) )\n",
    "idx = kmeans_clustering.fit_predict(w2v_model.wv.vectors)\n",
    "\n",
    "# Get the end time and print how long the process took\n",
    "end = time.time()\n",
    "elapsed = end - start\n",
    "print (\"Time taken for K Means clustering: \", elapsed, \"seconds.\")"
   ]
  },
  {
   "cell_type": "code",
   "execution_count": 33,
   "id": "after-underground",
   "metadata": {},
   "outputs": [
    {
     "name": "stdout",
     "output_type": "stream",
     "text": [
      "388.8\n"
     ]
    }
   ],
   "source": [
    "print(num_clusters)"
   ]
  },
  {
   "cell_type": "code",
   "execution_count": 34,
   "id": "fresh-sudan",
   "metadata": {},
   "outputs": [],
   "source": [
    "word_centroid_map = dict(zip( w2v_model.wv.index2word, idx ))\n"
   ]
  },
  {
   "cell_type": "code",
   "execution_count": 35,
   "id": "engaged-machinery",
   "metadata": {},
   "outputs": [
    {
     "name": "stdout",
     "output_type": "stream",
     "text": [
      "\n",
      "Cluster 0\n",
      "['build', 'continuous', 'logs', 'branches', 'repositories', 'merging']\n",
      "\n",
      "Cluster 1\n",
      "['windows', 'operating', 'xp', 'studio', 'eclipse']\n",
      "\n",
      "Cluster 2\n",
      "['front', 'categories', 'go', 'attendance', 'specially', 'search', 'estate', 'password']\n",
      "\n",
      "Cluster 3\n",
      "['java']\n",
      "\n",
      "Cluster 4\n",
      "['course', 'learner', 'association']\n",
      "\n",
      "Cluster 5\n",
      "['vendors']\n",
      "\n",
      "Cluster 6\n",
      "['nagpur', 'secondary']\n",
      "\n",
      "Cluster 7\n",
      "['hibernate', 'ee']\n",
      "\n",
      "Cluster 8\n",
      "['employee', 'commercial', 'events', 'uk', 'take', 'offers', 'duties', 'iso', 'task', 'satisfaction', 'plus', 'suggesting', 'techno', 'conditions', 'conference', 'carry', 'hours', 'establish', 'responses', 'kyc', 'gm', 'holds', 'receivables', 'rfq']\n",
      "\n",
      "Cluster 9\n",
      "['year']\n"
     ]
    }
   ],
   "source": [
    "# For the first 10 clusters\n",
    "for cluster in range(0,10):\n",
    "    #\n",
    "    # Print the cluster number  \n",
    "    print (\"\\nCluster %d\" % cluster)\n",
    "    #\n",
    "    # Find all of the words for that cluster number, and print them out\n",
    "    words = []\n",
    "    values=list(word_centroid_map.values())\n",
    "    keys=list(word_centroid_map.keys())\n",
    "    for i in range(0,len(word_centroid_map.values())):\n",
    "        if( values[i] == cluster ):\n",
    "            words.append(keys[i])\n",
    "    print (words)"
   ]
  },
  {
   "cell_type": "code",
   "execution_count": 36,
   "id": "suited-orange",
   "metadata": {},
   "outputs": [],
   "source": [
    "def create_bag_of_centroids( wordlist, word_centroid_map ):\n",
    "    #\n",
    "    # The number of clusters is equal to the highest cluster index\n",
    "    # in the word / centroid map\n",
    "    num_centroids = max( word_centroid_map.values() ) + 1\n",
    "    #\n",
    "    # Pre-allocate the bag of centroids vector (for speed)\n",
    "    bag_of_centroids = np.zeros( num_centroids, dtype=\"float32\" )\n",
    "    #\n",
    "    # Loop over the words in the review. If the word is in the vocabulary,\n",
    "    # find which cluster it belongs to, and increment that cluster count \n",
    "    # by one\n",
    "    for word in wordlist:\n",
    "        if word in word_centroid_map:\n",
    "            index = word_centroid_map[word]\n",
    "            bag_of_centroids[index] += 1\n",
    "    #\n",
    "    # Return the \"bag of centroids\"\n",
    "    return bag_of_centroids"
   ]
  },
  {
   "cell_type": "code",
   "execution_count": 37,
   "id": "secret-probability",
   "metadata": {},
   "outputs": [
    {
     "name": "stdout",
     "output_type": "stream",
     "text": [
      "(762, 388)\n"
     ]
    }
   ],
   "source": [
    "# Pre-allocate an array for the training set bags of centroids (for speed)\n",
    "train_centroids = np.zeros( (X_train.size, int(num_clusters)), dtype=\"float32\" )\n",
    "print(train_centroids.shape)\n",
    "\n",
    "\n",
    "# Transform the training set reviews into bags of centroids\n",
    "counter = 0\n",
    "for resume in X_train:\n",
    "    train_centroids[counter] = create_bag_of_centroids( resume, word_centroid_map )\n",
    "    counter += 1"
   ]
  },
  {
   "cell_type": "code",
   "execution_count": 38,
   "id": "sixth-individual",
   "metadata": {},
   "outputs": [
    {
     "name": "stdout",
     "output_type": "stream",
     "text": [
      "(200, 388)\n"
     ]
    }
   ],
   "source": [
    "# Repeat for test reviews \n",
    "test_centroids = np.zeros(( X_test.size, int(num_clusters)), dtype=\"float32\" )\n",
    "print(test_centroids.shape)\n",
    "\n",
    "counter = 0\n",
    "for resume in X_test:\n",
    "    test_centroids[counter] = create_bag_of_centroids( resume, word_centroid_map )\n",
    "    counter += 1"
   ]
  },
  {
   "cell_type": "code",
   "execution_count": 39,
   "id": "gentle-degree",
   "metadata": {},
   "outputs": [
    {
     "name": "stdout",
     "output_type": "stream",
     "text": [
      "Fitting a random forest to labeled training data...\n"
     ]
    }
   ],
   "source": [
    "# Fit a random forest and extract predictions \n",
    "forest = RandomForestClassifier(n_estimators = 100)\n",
    "\n",
    "# Fitting the forest may take a few minutes\n",
    "print (\"Fitting a random forest to labeled training data...\")\n",
    "forest = forest.fit(train_centroids,y_train)\n",
    "result = forest.predict(test_centroids)\n",
    "\n",
    "# Write the test results \n",
    "output = pd.DataFrame(data={\"catégorie\":y_test, \"prédiction\":result})"
   ]
  },
  {
   "cell_type": "code",
   "execution_count": 40,
   "id": "explicit-supplement",
   "metadata": {},
   "outputs": [
    {
     "data": {
      "text/html": [
       "<div>\n",
       "<style scoped>\n",
       "    .dataframe tbody tr th:only-of-type {\n",
       "        vertical-align: middle;\n",
       "    }\n",
       "\n",
       "    .dataframe tbody tr th {\n",
       "        vertical-align: top;\n",
       "    }\n",
       "\n",
       "    .dataframe thead th {\n",
       "        text-align: right;\n",
       "    }\n",
       "</style>\n",
       "<table border=\"1\" class=\"dataframe\">\n",
       "  <thead>\n",
       "    <tr style=\"text-align: right;\">\n",
       "      <th></th>\n",
       "      <th>catégorie</th>\n",
       "      <th>prédiction</th>\n",
       "    </tr>\n",
       "  </thead>\n",
       "  <tbody>\n",
       "    <tr>\n",
       "      <th>344</th>\n",
       "      <td>Java Developer</td>\n",
       "      <td>Java Developer</td>\n",
       "    </tr>\n",
       "    <tr>\n",
       "      <th>381</th>\n",
       "      <td>Java Developer</td>\n",
       "      <td>Java Developer</td>\n",
       "    </tr>\n",
       "    <tr>\n",
       "      <th>351</th>\n",
       "      <td>Java Developer</td>\n",
       "      <td>Java Developer</td>\n",
       "    </tr>\n",
       "    <tr>\n",
       "      <th>778</th>\n",
       "      <td>Hadoop</td>\n",
       "      <td>Hadoop</td>\n",
       "    </tr>\n",
       "    <tr>\n",
       "      <th>277</th>\n",
       "      <td>Health and fitness</td>\n",
       "      <td>Health and fitness</td>\n",
       "    </tr>\n",
       "    <tr>\n",
       "      <th>...</th>\n",
       "      <td>...</td>\n",
       "      <td>...</td>\n",
       "    </tr>\n",
       "    <tr>\n",
       "      <th>549</th>\n",
       "      <td>Operations Manager</td>\n",
       "      <td>Operations Manager</td>\n",
       "    </tr>\n",
       "    <tr>\n",
       "      <th>280</th>\n",
       "      <td>Health and fitness</td>\n",
       "      <td>Health and fitness</td>\n",
       "    </tr>\n",
       "    <tr>\n",
       "      <th>109</th>\n",
       "      <td>Arts</td>\n",
       "      <td>Arts</td>\n",
       "    </tr>\n",
       "    <tr>\n",
       "      <th>77</th>\n",
       "      <td>HR</td>\n",
       "      <td>HR</td>\n",
       "    </tr>\n",
       "    <tr>\n",
       "      <th>756</th>\n",
       "      <td>Hadoop</td>\n",
       "      <td>Hadoop</td>\n",
       "    </tr>\n",
       "  </tbody>\n",
       "</table>\n",
       "<p>200 rows × 2 columns</p>\n",
       "</div>"
      ],
      "text/plain": [
       "              catégorie          prédiction\n",
       "344      Java Developer      Java Developer\n",
       "381      Java Developer      Java Developer\n",
       "351      Java Developer      Java Developer\n",
       "778              Hadoop              Hadoop\n",
       "277  Health and fitness  Health and fitness\n",
       "..                  ...                 ...\n",
       "549  Operations Manager  Operations Manager\n",
       "280  Health and fitness  Health and fitness\n",
       "109                Arts                Arts\n",
       "77                   HR                  HR\n",
       "756              Hadoop              Hadoop\n",
       "\n",
       "[200 rows x 2 columns]"
      ]
     },
     "execution_count": 40,
     "metadata": {},
     "output_type": "execute_result"
    }
   ],
   "source": [
    "output"
   ]
  },
  {
   "cell_type": "code",
   "execution_count": 41,
   "id": "italian-mission",
   "metadata": {},
   "outputs": [
    {
     "data": {
      "image/png": "[encoded data removed]",
      "text/plain": [
       "<Figure size 720x720 with 2 Axes>"
      ]
     },
     "metadata": {
      "needs_background": "light"
     },
     "output_type": "display_data"
    }
   ],
   "source": [
    "c_m_2 = confusion_matrix(y_test, result)\n",
    "plt.figure(figsize=(10,10))\n",
    "sns.heatmap(c_m_2, annot=True, fmt=\".0f\", linewidths=.5, square = True, cmap = 'mako');\n",
    "plt.ylabel('Actual label');\n",
    "plt.xlabel('Predicted label');\n",
    "plt.title(\"Matrice de confusion\", size = 15)\n",
    "plt.show()"
   ]
  },
  {
   "cell_type": "code",
   "execution_count": 42,
   "id": "functioning-socket",
   "metadata": {},
   "outputs": [
    {
     "name": "stdout",
     "output_type": "stream",
     "text": [
      "Accuracy: 0.995\n"
     ]
    }
   ],
   "source": [
    "score = accuracy_score(y_test,result)\n",
    "print('Accuracy: {}'.format(score))"
   ]
  },
  {
   "cell_type": "markdown",
   "id": "australian-luxembourg",
   "metadata": {},
   "source": [
    "## 6. Test depuis un CV pris en ligne en format PDF"
   ]
  },
  {
   "cell_type": "code",
   "execution_count": 43,
   "id": "liked-bankruptcy",
   "metadata": {},
   "outputs": [],
   "source": [
    "from pdf2image import convert_from_path, convert_from_bytes\n",
    "from pdf2image.exceptions import (\n",
    "    PDFInfoNotInstalledError,\n",
    "    PDFPageCountError,\n",
    "    PDFSyntaxError\n",
    ")"
   ]
  },
  {
   "cell_type": "code",
   "execution_count": 46,
   "id": "wrong-performer",
   "metadata": {},
   "outputs": [],
   "source": [
    "carrie_hr = '3Carrie.pdf'"
   ]
  },
  {
   "cell_type": "code",
   "execution_count": 55,
   "id": "backed-tract",
   "metadata": {},
   "outputs": [],
   "source": [
    "images = convert_from_path(carrie_hr, 500, poppler_path = r\"C:\\Users\\utilisateur\\Desktop\\poppler-21.03.0\\Library\\bin\")\n",
    "#création d'images depuis le pdf\n",
    "for i, image in enumerate(images):\n",
    "    fname = 'image'+str(i)+'.png'\n",
    "    image.save(fname, \"PNG\")"
   ]
  },
  {
   "cell_type": "code",
   "execution_count": 56,
   "id": "induced-sacrifice",
   "metadata": {},
   "outputs": [],
   "source": [
    "import pytesseract\n",
    "\n",
    "pytesseract.pytesseract.tesseract_cmd = r\"C:\\Program Files (x86)\\Tesseract-OCR\\tesseract.exe\""
   ]
  },
  {
   "cell_type": "code",
   "execution_count": 58,
   "id": "phantom-breeding",
   "metadata": {},
   "outputs": [
    {
     "name": "stdout",
     "output_type": "stream",
     "text": [
      "['HR']\n"
     ]
    }
   ],
   "source": [
    "import cv2\n",
    "#image avec texte\n",
    "img_texte = cv2.imread('image0.png', 0) #noir et blanc\n",
    "cv_test_2 = pytesseract.image_to_string(img_texte, lang='eng')\n",
    "clean_test = clean( cv_test_2, remove_stopwords=True )\n",
    "centroids_cv_test= create_bag_of_centroids( clean_test, word_centroid_map ) \n",
    "centroids_cv_test = centroids_cv_test.reshape(1, -1)\n",
    "result_test = forest.predict(centroids_cv_test)\n",
    "print(result_test)"
   ]
  },
  {
   "cell_type": "code",
   "execution_count": null,
   "id": "preceding-capability",
   "metadata": {},
   "outputs": [],
   "source": []
  }
 ],
 "metadata": {
  "kernelspec": {
   "display_name": "Python 3",
   "language": "python",
   "name": "python3"
  },
  "language_info": {
   "codemirror_mode": {
    "name": "ipython",
    "version": 3
   },
   "file_extension": ".py",
   "mimetype": "text/x-python",
   "name": "python",
   "nbconvert_exporter": "python",
   "pygments_lexer": "ipython3",
   "version": "3.8.5"
  }
 },
 "nbformat": 4,
 "nbformat_minor": 5
}
